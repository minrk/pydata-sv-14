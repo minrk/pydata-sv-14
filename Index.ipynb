{
 "metadata": {
  "gist_id": "11501345",
  "name": "",
  "signature": "sha256:35290a31c93816e4b11ea15a0c43e0f4b4801ae964b8635e5b3bc629775731fb"
 },
 "nbformat": 3,
 "nbformat_minor": 0,
 "worksheets": [
  {
   "cells": [
    {
     "cell_type": "markdown",
     "metadata": {},
     "source": [
      "<center>\n",
      "<h1>What's new and what's coming in IPython</h1>\n",
      "\n",
      "<br>\n",
      "https://github.com/minrk/pydata-sv-14\n",
      "<br>\n",
      "\n",
      "Min Ragan-Kelley, UC Berkeley\n",
      "\n",
      "<br>\n",
      "\n",
      "PyData Silicon Valley, 2014\n",
      "\n",
      "<br>\n",
      "<br>\n",
      "\n",
      "<a href=\"What%27s%20New.ipynb\">What's new</a>\n",
      "<br>\n",
      "\n",
      "<a href=\"What%27s%20Coming.ipynb\">What's coming</a>\n",
      "<br>\n",
      "\n",
      "<a href=\"What%27s%20up.ipynb\">What's up?</a>\n",
      "</center>\n",
      "\n",
      "\n",
      "\n",
      "\n",
      "\n",
      "\n",
      "\n",
      "\n",
      "\n",
      "\n",
      "\n",
      "\n",
      "\n",
      "\n",
      "\n",
      "\n",
      "\n",
      "\n",
      "\n",
      "\n",
      "\n",
      "\n",
      "\n",
      "\n",
      "\n",
      "\n",
      "\n"
     ]
    }
   ],
   "metadata": {}
  }
 ]
}
